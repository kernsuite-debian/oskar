{
 "cells": [
  {
   "cell_type": "markdown",
   "metadata": {},
   "source": [
    "### OSKAR System noise testing\n",
    "\n",
    "This is an simple test looking at the expected RMS and mean of the uncorrelated system noise\n",
    "on auto and cross correlations.\n",
    "\n",
    "In this example $n=10^{6}$ samples are generated and correlated in blocks of $m=100$ with the blocks then averaged before measuring the mean and STD."
   ]
  },
  {
   "cell_type": "code",
   "execution_count": 24,
   "metadata": {
    "collapsed": false
   },
   "outputs": [
    {
     "name": "stdout",
     "output_type": "stream",
     "text": [
      "Cross-correlation: measured (predicted)\n",
      "  mean : -0.0129-0.0541i (0+0i)\n",
      "  STD  : 14.3638 (14.2302)\n",
      "Auto-correlation: measured (predicted)\n",
      "  mean : 449.8842 (450.0000)\n",
      "  STD  : 14.2708 (14.2302)\n"
     ]
    }
   ],
   "source": [
    "%matplotlib inline\n",
    "from IPython.display import display\n",
    "import numpy as np\n",
    "import matplotlib.pyplot as pp\n",
    "import time\n",
    "\n",
    "n = 1e7\n",
    "m = 1000\n",
    "s = 15\n",
    "Xp = (np.random.randn(n/m, m) + 1.j*np.random.randn(n/m, m))*s\n",
    "Xq = (np.random.randn(n/m, m) + 1.j*np.random.randn(n/m, m))*s\n",
    "\n",
    "ac = np.sum(Xp*np.conj(Xp),1)/m # Auto-correlation\n",
    "xc = np.sum(Xp*np.conj(Xq),1)/m # Cross-correlation\n",
    "\n",
    "print 'Cross-correlation: measured (predicted)'\n",
    "print '  mean : %.4f%+.4fi (0+0i)' % (np.real(np.mean(xc)), np.imag(np.mean(xc)))\n",
    "print '  STD  : %.4f (%.4f)' % (np.std(xc), 2*s**2/(m**0.5))\n",
    "print 'Auto-correlation: measured (predicted)'\n",
    "print '  mean : %.4f (%.4f)' % (np.real(np.mean(ac)), 2*s**2)\n",
    "print '  STD  : %.4f (%.4f)' % (np.std(ac), 2*s**2/(m**0.5))"
   ]
  },
  {
   "cell_type": "markdown",
   "metadata": {},
   "source": [
    "#### Cross-correlation\n",
    "Has a mean of $0$ and a STD of $\\frac{2\\mathrm{s}^{2}}{\\sqrt{m}}$.\n",
    "\n",
    "#### Auto-correlation\n",
    "Has a mean of $2\\mathrm{s}^{2}$ and a STD of $\\frac{2\\mathrm{s}^{2}}{\\sqrt{m}}$.\n",
    "\n",
    "#### In terms of OSKAR parameters\n",
    "\n",
    "The number of independent samples in an integration is $m = \\sqrt{2\\Delta\\nu\\tau}$.\n",
    "The System equivalent flux density of one polarisation of an antenna from a unpolarised source is:\n",
    "    $$S = \\frac{2k_{\\mathrm{B}}T_{\\mathrm{sys}}}{A_{\\mathrm{eff}}\\eta}$$\n",
    "And the RMS from this SEFD is:\n",
    "    $$ \\sigma_{p,q} = \\frac{ \\sqrt{ S_{p} S_{q}} } { \\sqrt{2\\Delta\\nu\\tau} } $$\n",
    "if $S_{p} = S_{q} = S$\n",
    "    $$ \\sigma_{p,q} = \\frac{S} { \\sqrt{2\\Delta\\nu\\tau} } $$\n",
    "As Visibilities are complex the measured STD (or RMS) will be \n",
    "    $$\\varepsilon = \\sqrt{2}\\sigma_{p,q}$$\n",
    "That is we would expect to measure and RMS of \n",
    "    $$ \\varepsilon = \\frac{\\sqrt{2} S} { \\sqrt{2\\Delta\\nu\\tau} } = \\frac{\\sqrt{2} S} { \\sqrt{m} }$$\n",
    "If we relate this to the parameter s in the script above\n",
    "    $$ \\frac{2\\mathrm{s}^{2}}{\\sqrt{m}} = \\frac{\\sqrt{2} S} { \\sqrt{m} } $$\n",
    "and therefore, \n",
    "    $$ s = \\sqrt{\\frac{\\sqrt{m}\\sigma_{p,q}} {\\sqrt{2}} } = \\sqrt{\\frac{S}{\\sqrt{2}}}$$\n",
    "or \n",
    "    $$ \\sigma_{p,q} = \\sqrt{\\frac{2}{m}}s^{2} $$"
   ]
  },
  {
   "cell_type": "code",
   "execution_count": null,
   "metadata": {
    "collapsed": true
   },
   "outputs": [],
   "source": []
  }
 ],
 "metadata": {
  "kernelspec": {
   "display_name": "Python 2",
   "language": "python",
   "name": "python2"
  },
  "language_info": {
   "codemirror_mode": {
    "name": "ipython",
    "version": 2
   },
   "file_extension": ".py",
   "mimetype": "text/x-python",
   "name": "python",
   "nbconvert_exporter": "python",
   "pygments_lexer": "ipython2",
   "version": "2.7.9"
  }
 },
 "nbformat": 4,
 "nbformat_minor": 0
}
